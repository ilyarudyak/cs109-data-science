{
 "cells": [
  {
   "cell_type": "markdown",
   "metadata": {},
   "source": [
    "## Spam detector from *'Data science from scratch'*"
   ]
  },
  {
   "cell_type": "code",
   "execution_count": 1,
   "metadata": {
    "collapsed": true
   },
   "outputs": [],
   "source": [
    "%matplotlib inline\n",
    "import numpy as np\n",
    "import scipy as sp\n",
    "import matplotlib as mpl\n",
    "import matplotlib.cm as cm\n",
    "import matplotlib.pyplot as plt\n",
    "import pandas as pd"
   ]
  },
  {
   "cell_type": "code",
   "execution_count": 54,
   "metadata": {},
   "outputs": [
    {
     "name": "stderr",
     "output_type": "stream",
     "text": [
      "/Applications/anaconda/lib/python3.5/site-packages/sklearn/cross_validation.py:44: DeprecationWarning: This module was deprecated in version 0.18 in favor of the model_selection module into which all the refactored classes and functions are moved. Also note that the interface of the new CV iterators are different from that of this module. This module will be removed in 0.20.\n",
      "  \"This module will be removed in 0.20.\", DeprecationWarning)\n"
     ]
    }
   ],
   "source": [
    "import glob\n",
    "import re\n",
    "from sklearn.feature_extraction.text import CountVectorizer\n",
    "from sklearn.naive_bayes import MultinomialNB\n",
    "from sklearn.cross_validation import train_test_split"
   ]
  },
  {
   "cell_type": "markdown",
   "metadata": {},
   "source": [
    "### Get spam data"
   ]
  },
  {
   "cell_type": "code",
   "execution_count": 90,
   "metadata": {
    "collapsed": true
   },
   "outputs": [],
   "source": [
    "def get_subject_data(path):\n",
    "    \"\"\"\n",
    "    Extract subject text from Subject line\n",
    "    \"\"\"\n",
    "    data = []\n",
    "#     hard_count = 0\n",
    "\n",
    "    # glob.glob returns every filename that matches the wildcarded path\n",
    "    for fn in glob.glob(path):\n",
    "        is_spam = int(\"spam\" in fn)\n",
    "        is_hard = int(\"hard\" in fn)\n",
    "#         if is_hard:\n",
    "#             hard_count += 1\n",
    "\n",
    "        with open(fn, 'r', encoding='ISO-8859-1') as file:\n",
    "            for line in file:\n",
    "                if line.startswith(\"Subject:\"):\n",
    "                    subject = re.sub(r\"^Subject:\\s+\", \"\", line).strip()\n",
    "                    data.append((subject, is_spam, is_hard))\n",
    "#     print(hard_count)           \n",
    "    return np.array(data)"
   ]
  },
  {
   "cell_type": "code",
   "execution_count": 89,
   "metadata": {},
   "outputs": [
    {
     "name": "stdout",
     "output_type": "stream",
     "text": [
      "250\n"
     ]
    }
   ],
   "source": [
    "path = '/Users/ilyarudyak/Downloads/*/*'\n",
    "data = get_subject_data(path)"
   ]
  },
  {
   "cell_type": "code",
   "execution_count": 91,
   "metadata": {},
   "outputs": [
    {
     "name": "stdout",
     "output_type": "stream",
     "text": [
      "(3423,) (3423,) (3423,)\n"
     ]
    }
   ],
   "source": [
    "subjects = data[:, 0]\n",
    "labels = data[:, 1]\n",
    "labels_hard_ham = data[:, 2].astype(np.int)\n",
    "print(subjects.shape, labels.shape, labels_hard_ham.shape)"
   ]
  },
  {
   "cell_type": "markdown",
   "metadata": {},
   "source": [
    "### Build vector model"
   ]
  },
  {
   "cell_type": "code",
   "execution_count": 112,
   "metadata": {},
   "outputs": [],
   "source": [
    "def make_xy(subjects, labels, vectorizer=None):\n",
    "    \n",
    "    if not vectorizer:\n",
    "        vectorizer = CountVectorizer()\n",
    "        \n",
    "    vectorizer.fit(subjects)\n",
    "    X = vectorizer.transform(subjects)\n",
    "    y = labels\n",
    "    return X, y\n",
    "\n",
    "vectorizer = CountVectorizer()\n",
    "X, y = make_xy(subjects, labels, vectorizer=vectorizer)"
   ]
  },
  {
   "cell_type": "code",
   "execution_count": 113,
   "metadata": {},
   "outputs": [
    {
     "name": "stdout",
     "output_type": "stream",
     "text": [
      "(3423, 4460) <class 'scipy.sparse.csr.csr_matrix'>\n",
      "[[0 0 0 0 0 0 0 0 0 0]\n",
      " [0 0 0 0 0 0 0 0 0 0]\n",
      " [0 0 0 0 0 0 0 0 0 0]]\n"
     ]
    }
   ],
   "source": [
    "print(X.shape, type(X))\n",
    "print(X.toarray()[0:3, 0:10])"
   ]
  },
  {
   "cell_type": "markdown",
   "metadata": {},
   "source": [
    "### Build NB model"
   ]
  },
  {
   "cell_type": "code",
   "execution_count": 114,
   "metadata": {
    "collapsed": true
   },
   "outputs": [],
   "source": [
    "xtrain, xtest, ytrain, ytest = train_test_split(X, y)"
   ]
  },
  {
   "cell_type": "code",
   "execution_count": 115,
   "metadata": {
    "collapsed": true
   },
   "outputs": [],
   "source": [
    "clf = MultinomialNB().fit(xtrain, ytrain)"
   ]
  },
  {
   "cell_type": "code",
   "execution_count": 116,
   "metadata": {},
   "outputs": [
    {
     "name": "stdout",
     "output_type": "stream",
     "text": [
      "Accuracy on training data: 0.9673\n",
      "Accuracy on test data:     0.867990654206\n"
     ]
    }
   ],
   "source": [
    "training_accuracy = clf.score(xtrain, ytrain)\n",
    "test_accuracy = clf.score(xtest, ytest)\n",
    "\n",
    "print (\"Accuracy on training data: {:.4f}\".format(training_accuracy))\n",
    "print (\"Accuracy on test data:     {:.12f}\".format(test_accuracy))"
   ]
  },
  {
   "cell_type": "markdown",
   "metadata": {},
   "source": [
    "#### -------------------------------------------"
   ]
  },
  {
   "cell_type": "markdown",
   "metadata": {},
   "source": [
    "Accuracy is simply ratio of correct predictions / len(y):"
   ]
  },
  {
   "cell_type": "code",
   "execution_count": 66,
   "metadata": {
    "collapsed": true
   },
   "outputs": [],
   "source": [
    "ytest_pred = clf.predict(xtest)"
   ]
  },
  {
   "cell_type": "code",
   "execution_count": 70,
   "metadata": {},
   "outputs": [
    {
     "name": "stdout",
     "output_type": "stream",
     "text": [
      "(856,) (856,) (856,)\n"
     ]
    }
   ],
   "source": [
    "print(ytest.shape, ytest_pred.shape, (ytest == ytest_pred).shape)"
   ]
  },
  {
   "cell_type": "code",
   "execution_count": 72,
   "metadata": {},
   "outputs": [
    {
     "name": "stdout",
     "output_type": "stream",
     "text": [
      "0.859813084112\n"
     ]
    }
   ],
   "source": [
    "print(sum(ytest == ytest_pred) / ytest.shape[0])"
   ]
  },
  {
   "cell_type": "markdown",
   "metadata": {},
   "source": [
    "#### -------------------------------------------"
   ]
  },
  {
   "cell_type": "code",
   "execution_count": 92,
   "metadata": {},
   "outputs": [
    {
     "data": {
      "text/plain": [
       "269"
      ]
     },
     "execution_count": 92,
     "metadata": {},
     "output_type": "execute_result"
    }
   ],
   "source": [
    "np.sum(labels_hard_ham)"
   ]
  },
  {
   "cell_type": "code",
   "execution_count": 95,
   "metadata": {
    "collapsed": true
   },
   "outputs": [],
   "source": [
    "xhard = X[labels_hard_ham == 1, :]"
   ]
  },
  {
   "cell_type": "code",
   "execution_count": 96,
   "metadata": {},
   "outputs": [
    {
     "data": {
      "text/plain": [
       "(269, 4460)"
      ]
     },
     "execution_count": 96,
     "metadata": {},
     "output_type": "execute_result"
    }
   ],
   "source": [
    "xhard.shape"
   ]
  },
  {
   "cell_type": "code",
   "execution_count": 97,
   "metadata": {
    "collapsed": true
   },
   "outputs": [],
   "source": [
    "yhard = y[labels_hard_ham == 1]"
   ]
  },
  {
   "cell_type": "code",
   "execution_count": 98,
   "metadata": {},
   "outputs": [
    {
     "data": {
      "text/plain": [
       "(269,)"
      ]
     },
     "execution_count": 98,
     "metadata": {},
     "output_type": "execute_result"
    }
   ],
   "source": [
    "yhard.shape"
   ]
  },
  {
   "cell_type": "code",
   "execution_count": 100,
   "metadata": {},
   "outputs": [
    {
     "data": {
      "text/plain": [
       "0.91821561338289959"
      ]
     },
     "execution_count": 100,
     "metadata": {},
     "output_type": "execute_result"
    }
   ],
   "source": [
    "hard_accuracy = clf.score(xhard, yhard)\n",
    "hard_accuracy"
   ]
  },
  {
   "cell_type": "markdown",
   "metadata": {},
   "source": [
    "### Good words, bad words"
   ]
  },
  {
   "cell_type": "code",
   "execution_count": 123,
   "metadata": {},
   "outputs": [
    {
     "name": "stdout",
     "output_type": "stream",
     "text": [
      "(4460,) ['cpx' 'cqhcp' 'crack' 'cracking' 'cracks' 'craig' 'cram' 'crams' 'cranky'\n",
      " 'crappers' 'crappy' 'crash' 'crashes' 'crazy' 'creaks' 'create' 'created'\n",
      " 'creating' 'creative' 'credit' 'credits' 'crib' 'crime' 'criminal'\n",
      " 'crisis' 'critical' 'criticised' 'criticized' 'crony' 'crop' 'crosshairs'\n",
      " 'crowd' 'crua' 'crucial' 'cruise' 'cry' 'cryptographic' 'cryptography'\n",
      " 'csl' 'css' 'culling' 'culture' 'cum' 'cup' 'cups' 'curb' 'curling'\n",
      " 'current' 'currie' 'curried' 'curse' 'curve' 'custom' 'customer'\n",
      " 'customers' 'customising' 'customized' 'cute' 'cvs' 'cxx' 'cyberage'\n",
      " 'cyberia' 'cyberslapps' 'cyberspace' 'cynicism' 'cypriot' 'cystals' 'czar'\n",
      " 'd3' 'd4x' 'd9' 'da' 'dabba' 'daily' 'damage' 'damages' 'damian' 'dan'\n",
      " 'danger' 'daniel' 'danny' 'dare' 'dares' 'dark' 'darkling' 'dart' 'darwin'\n",
      " 'data' 'database' 'datapower' 'date' 'dates' 'dating' 'dave' 'davis'\n",
      " 'davos' 'dawn' 'day' 'daypop' 'days']\n"
     ]
    }
   ],
   "source": [
    "words = np.array(vectorizer.get_feature_names())\n",
    "print(words.shape, words[1000:1100])"
   ]
  },
  {
   "cell_type": "code",
   "execution_count": 129,
   "metadata": {
    "collapsed": true
   },
   "outputs": [],
   "source": [
    "x = np.eye(xtest.shape[1])\n",
    "probs = clf.predict_proba(x)[:, 0]"
   ]
  },
  {
   "cell_type": "code",
   "execution_count": 130,
   "metadata": {},
   "outputs": [
    {
     "name": "stdout",
     "output_type": "stream",
     "text": [
      "(4460,) [ 0.92030195  0.48019239  0.8220306   0.87387139  0.94174634  0.94865416\n",
      "  0.8220306   0.85236975  0.69783697  0.53590599]\n"
     ]
    }
   ],
   "source": [
    "print(probs.shape, probs[:10])"
   ]
  },
  {
   "cell_type": "code",
   "execution_count": 131,
   "metadata": {
    "collapsed": true
   },
   "outputs": [],
   "source": [
    "ind = np.argsort(probs)"
   ]
  },
  {
   "cell_type": "code",
   "execution_count": 132,
   "metadata": {},
   "outputs": [
    {
     "data": {
      "text/plain": [
       "array([ 291, 3199, 2566, 3865, 4446, 2703, 2912, 1624,  159, 1821])"
      ]
     },
     "execution_count": 132,
     "metadata": {},
     "output_type": "execute_result"
    }
   ],
   "source": [
    "ind[:10]"
   ]
  },
  {
   "cell_type": "code",
   "execution_count": 140,
   "metadata": {},
   "outputs": [
    {
     "data": {
      "text/plain": [
       "array([['adv', '0.14160309844970298'],\n",
       "       ['rates', '0.14160309844970298'],\n",
       "       ['money', '0.16139461851550338'],\n",
       "       ['systemworks', '0.18761745277510586'],\n",
       "       ['zzzz', '0.18761745277510586'],\n",
       "       ['norton', '0.20420686183275558'],\n",
       "       ['per', '0.20420686183275558'],\n",
       "       ['fortune', '0.2240145558792306'],\n",
       "       ['500', '0.2240145558792306'],\n",
       "       ['guaranteed', '0.2240145558792306'],\n",
       "       ['clearance', '0.2240145558792306'],\n",
       "       ['reps', '0.2240145558792306'],\n",
       "       ['mortgage', '0.2480776351115379'],\n",
       "       ['account', '0.2480776351115379'],\n",
       "       ['hiring', '0.2480776351115379'],\n",
       "       ['sale', '0.27793243733434536'],\n",
       "       ['earn', '0.27793243733434536'],\n",
       "       ['interest', '0.27793243733434536'],\n",
       "       ['assistance', '0.27793243733434536'],\n",
       "       ['partnership', '0.27793243733434536'],\n",
       "       ['investment', '0.27793243733434536'],\n",
       "       ['viagra', '0.27793243733434536'],\n",
       "       ['hgh', '0.27793243733434536'],\n",
       "       ['big5', '0.315956038430894'],\n",
       "       ['lbs', '0.315956038430894'],\n",
       "       ['loss', '0.315956038430894'],\n",
       "       ['poker', '0.315956038430894'],\n",
       "       ['95', '0.315956038430894'],\n",
       "       ['wm', '0.315956038430894'],\n",
       "       ['extended', '0.315956038430894'],\n",
       "       ['lowest', '0.315956038430894'],\n",
       "       ['warranties', '0.315956038430894'],\n",
       "       ['tobacco', '0.315956038430894'],\n",
       "       ['grow', '0.315956038430894'],\n",
       "       ['year', '0.3391557851147942'],\n",
       "       ['marketing', '0.366032503131986'],\n",
       "       ['rich', '0.366032503131986'],\n",
       "       ['prices', '0.366032503131986'],\n",
       "       ['wanted', '0.366032503131986'],\n",
       "       ['goods', '0.366032503131986'],\n",
       "       ['gyrcjdckocrfjegkyirije4lmyvpjvwlbce8jtclzyvzgyhk',\n",
       "        '0.366032503131986'],\n",
       "       ['sale_only', '0.366032503131986'],\n",
       "       ['adult', '0.366032503131986'],\n",
       "       ['ebay', '0.366032503131986'],\n",
       "       ['term', '0.366032503131986'],\n",
       "       ['weight', '0.366032503131986'],\n",
       "       ['a4', '0.366032503131986'],\n",
       "       ['webcam', '0.366032503131986'],\n",
       "       ['a5', '0.366032503131986'],\n",
       "       ['singles', '0.366032503131986'],\n",
       "       ['doing', '0.366032503131986'],\n",
       "       ['join', '0.366032503131986'],\n",
       "       ['want', '0.39753558293570007'],\n",
       "       ['99', '0.39753558293570007'],\n",
       "       ['best', '0.4154120828153291'],\n",
       "       ['month', '0.4349720364154587'],\n",
       "       ['career', '0.4349720364154587'],\n",
       "       ['6117kfvc5', '0.4349720364154587'],\n",
       "       ['days', '0.4349720364154587'],\n",
       "       ['shape', '0.4349720364154587'],\n",
       "       ['dc', '0.4349720364154587'],\n",
       "       ['adn', '0.4349720364154587'],\n",
       "       ['seeking', '0.4349720364154587'],\n",
       "       ['membership', '0.4349720364154587'],\n",
       "       ['sandy', '0.4349720364154587'],\n",
       "       ['exquisite', '0.4349720364154587'],\n",
       "       ['fill', '0.4349720364154587'],\n",
       "       ['any', '0.4349720364154587'],\n",
       "       ['fags', '0.4349720364154587'],\n",
       "       ['few', '0.4349720364154587'],\n",
       "       ['fees', '0.4349720364154587'],\n",
       "       ['milosevica', '0.4349720364154587'],\n",
       "       ['extensions', '0.4349720364154587'],\n",
       "       ['playstation', '0.4349720364154587'],\n",
       "       ['ou', '0.4349720364154587'],\n",
       "       ['ceviri', '0.4349720364154587'],\n",
       "       ['annuity', '0.4349720364154587'],\n",
       "       ['mlm', '0.4349720364154587'],\n",
       "       ['mothers', '0.4349720364154587'],\n",
       "       ['cartridges', '0.4349720364154587'],\n",
       "       ['warez', '0.4349720364154587'],\n",
       "       ['ad', '0.4349720364154587'],\n",
       "       ['enter', '0.4349720364154587'],\n",
       "       ['replica', '0.4349720364154587'],\n",
       "       ['doctors', '0.4349720364154587'],\n",
       "       ['doctor', '0.4349720364154587'],\n",
       "       ['a7a', '0.4349720364154587'],\n",
       "       ['conferencing', '0.4349720364154587'],\n",
       "       ['nuj6os05cciopf5hlieqpvaycsqkje45lt5sgyhc', '0.4349720364154587'],\n",
       "       ['congratulations', '0.4349720364154587'],\n",
       "       ['discount', '0.4349720364154587'],\n",
       "       ['direct', '0.4349720364154587'],\n",
       "       ['odrekao', '0.4349720364154587'],\n",
       "       ['diabetes', '0.4349720364154587'],\n",
       "       ['shipping', '0.4349720364154587'],\n",
       "       ['againts', '0.4349720364154587'],\n",
       "       ['deserve', '0.4349720364154587'],\n",
       "       ['olibykn', '0.4349720364154587'],\n",
       "       ['only', '0.4349720364154587'],\n",
       "       ['paid', '0.4349720364154587']], \n",
       "      dtype='<U51')"
      ]
     },
     "execution_count": 140,
     "metadata": {},
     "output_type": "execute_result"
    }
   ],
   "source": [
    "np.column_stack((words[ind[:100]], probs[ind[:100]]))"
   ]
  },
  {
   "cell_type": "code",
   "execution_count": 139,
   "metadata": {},
   "outputs": [
    {
     "data": {
      "text/plain": [
       "array([['recovery', '0.9677659888210255'],\n",
       "       ['red', '0.9677659888210255'],\n",
       "       ['mplayer', '0.9677659888210255'],\n",
       "       ['sacvs', '0.9677659888210255'],\n",
       "       ['gov', '0.9677659888210255'],\n",
       "       ['delta', '0.9677659888210255'],\n",
       "       ['ot', '0.9677659888210255'],\n",
       "       ['hat', '0.9677659888210255'],\n",
       "       ['rh8', '0.9677659888210255'],\n",
       "       ['recommended', '0.9677659888210255'],\n",
       "       ['spam', '0.9685464922825152'],\n",
       "       ['net', '0.968922739428964'],\n",
       "       ['why', '0.9699993437989984'],\n",
       "       ['shopper', '0.9699993437989984'],\n",
       "       ['question', '0.9699993437989984'],\n",
       "       ['update', '0.9699993437989984'],\n",
       "       ['drive', '0.9699993437989984'],\n",
       "       ['tough', '0.9699993437989984'],\n",
       "       ['viewing', '0.9699993437989984'],\n",
       "       ['pirates', '0.9699993437989984'],\n",
       "       ['file', '0.9699993437989984'],\n",
       "       ['er', '0.9699993437989984'],\n",
       "       ['secure', '0.9699993437989984'],\n",
       "       ['behaviours', '0.9699993437989984'],\n",
       "       ['dma', '0.9699993437989984'],\n",
       "       ['google', '0.9719432728640699'],\n",
       "       ['friends', '0.9719432728640699'],\n",
       "       ['package', '0.9719432728640699'],\n",
       "       ['bad', '0.9719432728640699'],\n",
       "       ['slaughter', '0.9719432728640699'],\n",
       "       ['message', '0.9728237325419824'],\n",
       "       ['41', '0.9736506134632994'],\n",
       "       ['entrepreneurs', '0.9736506134632994'],\n",
       "       ['rpm', '0.9736506134632994'],\n",
       "       ['false', '0.9736506134632994'],\n",
       "       ['god', '0.9736506134632994'],\n",
       "       ['sept', '0.9736506134632994'],\n",
       "       ['government', '0.9736506134632994'],\n",
       "       ['automated', '0.9736506134632994'],\n",
       "       ['hanson', '0.9736506134632994'],\n",
       "       ['amendment', '0.9751620794967456'],\n",
       "       ['national', '0.9751620794967456'],\n",
       "       ['silence', '0.9751620794967456'],\n",
       "       ['sorting', '0.9751620794967456'],\n",
       "       ['sa', '0.9751620794967456'],\n",
       "       ['rh', '0.976509549861753'],\n",
       "       ['empire', '0.976509549861753'],\n",
       "       ['40', '0.976509549861753'],\n",
       "       ['that', '0.976509549861753'],\n",
       "       ['upgrade', '0.976509549861753'],\n",
       "       ['good', '0.976509549861753'],\n",
       "       ['linux', '0.976509549861753'],\n",
       "       ['tech', '0.9777183416487926'],\n",
       "       ['almost', '0.9777183416487926'],\n",
       "       ['states', '0.9777183416487926'],\n",
       "       ['lockergnome', '0.9788088158300666'],\n",
       "       ['united', '0.9788088158300666'],\n",
       "       ['sequences', '0.9788088158300666'],\n",
       "       ['habeus', '0.9788088158300666'],\n",
       "       ['made', '0.9788088158300666'],\n",
       "       ['review', '0.9788088158300666'],\n",
       "       ['roman', '0.9788088158300666'],\n",
       "       ['use', '0.9804069684939778'],\n",
       "       ['stories', '0.9806981025670306'],\n",
       "       ['exmh', '0.9806981025670306'],\n",
       "       ['deployment', '0.9806981025670306'],\n",
       "       ['09', '0.9815218083615184'],\n",
       "       ['sets', '0.982278088476566'],\n",
       "       ['warming', '0.982278088476566'],\n",
       "       ['cnet', '0.982278088476566'],\n",
       "       ['sed', '0.982278088476566'],\n",
       "       ['image', '0.9829748962422042'],\n",
       "       ['goodbye', '0.9829748962422042'],\n",
       "       ['global', '0.9836189814428664'],\n",
       "       ['headlines', '0.9842161096783056'],\n",
       "       ['window', '0.9842161096783056'],\n",
       "       ['our', '0.9842161096783056'],\n",
       "       ['kiddies', '0.9852886398732693'],\n",
       "       ['test', '0.9857720414567603'],\n",
       "       ['an', '0.9866494168942777'],\n",
       "       ['cvs', '0.9870487404166516'],\n",
       "       ['java', '0.9874248697050809'],\n",
       "       ['alsa', '0.9881151851050302'],\n",
       "       ['bug', '0.9884326807657606'],\n",
       "       ['problem', '0.9890193629555122'],\n",
       "       ['perl', '0.9904694944251013'],\n",
       "       ['spamassassin', '0.9904694944251013'],\n",
       "       ['selling', '0.9908713456967683'],\n",
       "       ['wedded', '0.9908713456967683'],\n",
       "       ['bliss', '0.9910598257497498'],\n",
       "       ['re', '0.9911472439737466'],\n",
       "       ['apt', '0.9914143624359244'],\n",
       "       ['satalk', '0.992652682561661'],\n",
       "       ['sadev', '0.9927144943287411'],\n",
       "       ['ouch', '0.993173908560066'],\n",
       "       ['zzzzteana', '0.9937637800759349'],\n",
       "       ['was', '0.9949903456166204'],\n",
       "       ['users', '0.9950476426831133'],\n",
       "       ['razor', '0.9958137204096416'],\n",
       "       ['spambayes', '0.9958931315923268']], \n",
       "      dtype='<U51')"
      ]
     },
     "execution_count": 139,
     "metadata": {},
     "output_type": "execute_result"
    }
   ],
   "source": [
    "np.column_stack((words[ind[-100:]], probs[ind[-100:]]))"
   ]
  },
  {
   "cell_type": "code",
   "execution_count": null,
   "metadata": {
    "collapsed": true
   },
   "outputs": [],
   "source": []
  },
  {
   "cell_type": "code",
   "execution_count": null,
   "metadata": {
    "collapsed": true
   },
   "outputs": [],
   "source": []
  },
  {
   "cell_type": "code",
   "execution_count": null,
   "metadata": {
    "collapsed": true
   },
   "outputs": [],
   "source": []
  },
  {
   "cell_type": "code",
   "execution_count": null,
   "metadata": {
    "collapsed": true
   },
   "outputs": [],
   "source": []
  },
  {
   "cell_type": "code",
   "execution_count": null,
   "metadata": {
    "collapsed": true
   },
   "outputs": [],
   "source": []
  }
 ],
 "metadata": {
  "kernelspec": {
   "display_name": "Python [default]",
   "language": "python",
   "name": "python3"
  },
  "language_info": {
   "codemirror_mode": {
    "name": "ipython",
    "version": 3
   },
   "file_extension": ".py",
   "mimetype": "text/x-python",
   "name": "python",
   "nbconvert_exporter": "python",
   "pygments_lexer": "ipython3",
   "version": "3.5.3"
  }
 },
 "nbformat": 4,
 "nbformat_minor": 2
}
